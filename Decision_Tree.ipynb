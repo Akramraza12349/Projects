{
  "nbformat": 4,
  "nbformat_minor": 0,
  "metadata": {
    "colab": {
      "name": "Decision_Tree.ipynb",
      "provenance": [],
      "authorship_tag": "ABX9TyNB8efNkG/I0WHyOA6b6jiz",
      "include_colab_link": true
    },
    "kernelspec": {
      "name": "python3",
      "display_name": "Python 3"
    },
    "language_info": {
      "name": "python"
    }
  },
  "cells": [
    {
      "cell_type": "markdown",
      "metadata": {
        "id": "view-in-github",
        "colab_type": "text"
      },
      "source": [
        "<a href=\"https://colab.research.google.com/github/Akramraza12349/Projects/blob/main/Decision_Tree.ipynb\" target=\"_parent\"><img src=\"https://colab.research.google.com/assets/colab-badge.svg\" alt=\"Open In Colab\"/></a>"
      ]
    },
    {
      "cell_type": "markdown",
      "metadata": {
        "id": "Bc36pyLBjHqC"
      },
      "source": [
        "# problem: Using morning sensor signal as feature to predict whether the humidity will be high at 3pm"
      ]
    },
    {
      "cell_type": "code",
      "metadata": {
        "colab": {
          "base_uri": "https://localhost:8080/"
        },
        "id": "MKfD2QaNhdKS",
        "outputId": "639bf8eb-ce11-45a3-a9f0-b464e522fd4e"
      },
      "source": [
        "from google.colab import drive\n",
        "drive.mount('/content/drive')"
      ],
      "execution_count": null,
      "outputs": [
        {
          "output_type": "stream",
          "text": [
            "Mounted at /content/drive\n"
          ],
          "name": "stdout"
        }
      ]
    },
    {
      "cell_type": "code",
      "metadata": {
        "id": "gtsieQsPhopK"
      },
      "source": [
        "import pandas as pd\n",
        "from sklearn.metrics import accuracy_score,auc\n",
        "from sklearn.model_selection import train_test_split\n",
        "from sklearn.tree import DecisionTreeClassifier"
      ],
      "execution_count": null,
      "outputs": []
    },
    {
      "cell_type": "code",
      "metadata": {
        "id": "3dTjV4SPinjR"
      },
      "source": [
        "data=pd.read_csv('/content/drive/MyDrive/daily_weather.csv')"
      ],
      "execution_count": null,
      "outputs": []
    },
    {
      "cell_type": "code",
      "metadata": {
        "colab": {
          "base_uri": "https://localhost:8080/",
          "height": 224
        },
        "id": "1NKNSfI4i9Mf",
        "outputId": "501d1776-af04-4efc-9275-3eea691e74db"
      },
      "source": [
        "data.head()"
      ],
      "execution_count": null,
      "outputs": [
        {
          "output_type": "execute_result",
          "data": {
            "text/html": [
              "<div>\n",
              "<style scoped>\n",
              "    .dataframe tbody tr th:only-of-type {\n",
              "        vertical-align: middle;\n",
              "    }\n",
              "\n",
              "    .dataframe tbody tr th {\n",
              "        vertical-align: top;\n",
              "    }\n",
              "\n",
              "    .dataframe thead th {\n",
              "        text-align: right;\n",
              "    }\n",
              "</style>\n",
              "<table border=\"1\" class=\"dataframe\">\n",
              "  <thead>\n",
              "    <tr style=\"text-align: right;\">\n",
              "      <th></th>\n",
              "      <th>air_pressure_9am</th>\n",
              "      <th>air_temp_9am</th>\n",
              "      <th>avg_wind_direction_9am</th>\n",
              "      <th>avg_wind_speed_9am</th>\n",
              "      <th>max_wind_direction_9am</th>\n",
              "      <th>max_wind_speed_9am</th>\n",
              "      <th>rain_accumulation_9am</th>\n",
              "      <th>rain_duration_9am</th>\n",
              "      <th>relative_humidity_9am</th>\n",
              "      <th>high_humidity_3pm</th>\n",
              "    </tr>\n",
              "  </thead>\n",
              "  <tbody>\n",
              "    <tr>\n",
              "      <th>0</th>\n",
              "      <td>918.060000</td>\n",
              "      <td>74.822000</td>\n",
              "      <td>271.100000</td>\n",
              "      <td>2.080354</td>\n",
              "      <td>295.400000</td>\n",
              "      <td>2.863283</td>\n",
              "      <td>0.0</td>\n",
              "      <td>0.0</td>\n",
              "      <td>42.420000</td>\n",
              "      <td>1</td>\n",
              "    </tr>\n",
              "    <tr>\n",
              "      <th>1</th>\n",
              "      <td>917.347688</td>\n",
              "      <td>71.403843</td>\n",
              "      <td>101.935179</td>\n",
              "      <td>2.443009</td>\n",
              "      <td>140.471549</td>\n",
              "      <td>3.533324</td>\n",
              "      <td>0.0</td>\n",
              "      <td>0.0</td>\n",
              "      <td>24.328697</td>\n",
              "      <td>0</td>\n",
              "    </tr>\n",
              "    <tr>\n",
              "      <th>2</th>\n",
              "      <td>923.040000</td>\n",
              "      <td>60.638000</td>\n",
              "      <td>51.000000</td>\n",
              "      <td>17.067852</td>\n",
              "      <td>63.700000</td>\n",
              "      <td>22.100967</td>\n",
              "      <td>0.0</td>\n",
              "      <td>20.0</td>\n",
              "      <td>8.900000</td>\n",
              "      <td>0</td>\n",
              "    </tr>\n",
              "    <tr>\n",
              "      <th>3</th>\n",
              "      <td>920.502751</td>\n",
              "      <td>70.138895</td>\n",
              "      <td>198.832133</td>\n",
              "      <td>4.337363</td>\n",
              "      <td>211.203341</td>\n",
              "      <td>5.190045</td>\n",
              "      <td>0.0</td>\n",
              "      <td>0.0</td>\n",
              "      <td>12.189102</td>\n",
              "      <td>0</td>\n",
              "    </tr>\n",
              "    <tr>\n",
              "      <th>4</th>\n",
              "      <td>921.160000</td>\n",
              "      <td>44.294000</td>\n",
              "      <td>277.800000</td>\n",
              "      <td>1.856660</td>\n",
              "      <td>136.500000</td>\n",
              "      <td>2.863283</td>\n",
              "      <td>8.9</td>\n",
              "      <td>14730.0</td>\n",
              "      <td>92.410000</td>\n",
              "      <td>1</td>\n",
              "    </tr>\n",
              "  </tbody>\n",
              "</table>\n",
              "</div>"
            ],
            "text/plain": [
              "   air_pressure_9am  air_temp_9am  ...  relative_humidity_9am  high_humidity_3pm\n",
              "0        918.060000     74.822000  ...              42.420000                  1\n",
              "1        917.347688     71.403843  ...              24.328697                  0\n",
              "2        923.040000     60.638000  ...               8.900000                  0\n",
              "3        920.502751     70.138895  ...              12.189102                  0\n",
              "4        921.160000     44.294000  ...              92.410000                  1\n",
              "\n",
              "[5 rows x 10 columns]"
            ]
          },
          "metadata": {},
          "execution_count": 6
        }
      ]
    },
    {
      "cell_type": "code",
      "metadata": {
        "colab": {
          "base_uri": "https://localhost:8080/"
        },
        "id": "SG_GKa7wi-mk",
        "outputId": "774cfc55-6b82-433a-d3c7-2d0e389d2a46"
      },
      "source": [
        "data.columns"
      ],
      "execution_count": null,
      "outputs": [
        {
          "output_type": "execute_result",
          "data": {
            "text/plain": [
              "Index(['air_pressure_9am', 'air_temp_9am', 'avg_wind_direction_9am',\n",
              "       'avg_wind_speed_9am', 'max_wind_direction_9am', 'max_wind_speed_9am',\n",
              "       'rain_accumulation_9am', 'rain_duration_9am', 'relative_humidity_9am',\n",
              "       'high_humidity_3pm'],\n",
              "      dtype='object')"
            ]
          },
          "metadata": {},
          "execution_count": 7
        }
      ]
    },
    {
      "cell_type": "code",
      "metadata": {
        "colab": {
          "base_uri": "https://localhost:8080/"
        },
        "id": "TTESKkxCjfV9",
        "outputId": "5b916797-085c-4414-d3f4-49035edff651"
      },
      "source": [
        "data.shape"
      ],
      "execution_count": null,
      "outputs": [
        {
          "output_type": "execute_result",
          "data": {
            "text/plain": [
              "(1095, 10)"
            ]
          },
          "metadata": {},
          "execution_count": 8
        }
      ]
    },
    {
      "cell_type": "code",
      "metadata": {
        "colab": {
          "base_uri": "https://localhost:8080/",
          "height": 317
        },
        "id": "Sk1JKw3BjhHm",
        "outputId": "6bf1bc5f-8639-4ec9-8423-cf657df503c5"
      },
      "source": [
        "data.describe()"
      ],
      "execution_count": null,
      "outputs": [
        {
          "output_type": "execute_result",
          "data": {
            "text/html": [
              "<div>\n",
              "<style scoped>\n",
              "    .dataframe tbody tr th:only-of-type {\n",
              "        vertical-align: middle;\n",
              "    }\n",
              "\n",
              "    .dataframe tbody tr th {\n",
              "        vertical-align: top;\n",
              "    }\n",
              "\n",
              "    .dataframe thead th {\n",
              "        text-align: right;\n",
              "    }\n",
              "</style>\n",
              "<table border=\"1\" class=\"dataframe\">\n",
              "  <thead>\n",
              "    <tr style=\"text-align: right;\">\n",
              "      <th></th>\n",
              "      <th>air_pressure_9am</th>\n",
              "      <th>air_temp_9am</th>\n",
              "      <th>avg_wind_direction_9am</th>\n",
              "      <th>avg_wind_speed_9am</th>\n",
              "      <th>max_wind_direction_9am</th>\n",
              "      <th>max_wind_speed_9am</th>\n",
              "      <th>rain_accumulation_9am</th>\n",
              "      <th>rain_duration_9am</th>\n",
              "      <th>relative_humidity_9am</th>\n",
              "      <th>high_humidity_3pm</th>\n",
              "    </tr>\n",
              "  </thead>\n",
              "  <tbody>\n",
              "    <tr>\n",
              "      <th>count</th>\n",
              "      <td>1092.000000</td>\n",
              "      <td>1090.000000</td>\n",
              "      <td>1091.000000</td>\n",
              "      <td>1092.000000</td>\n",
              "      <td>1092.000000</td>\n",
              "      <td>1091.000000</td>\n",
              "      <td>1089.000000</td>\n",
              "      <td>1092.000000</td>\n",
              "      <td>1095.000000</td>\n",
              "      <td>1095.000000</td>\n",
              "    </tr>\n",
              "    <tr>\n",
              "      <th>mean</th>\n",
              "      <td>918.882551</td>\n",
              "      <td>64.933001</td>\n",
              "      <td>142.235511</td>\n",
              "      <td>5.508284</td>\n",
              "      <td>148.953518</td>\n",
              "      <td>7.019514</td>\n",
              "      <td>0.203079</td>\n",
              "      <td>294.108052</td>\n",
              "      <td>34.241402</td>\n",
              "      <td>0.499543</td>\n",
              "    </tr>\n",
              "    <tr>\n",
              "      <th>std</th>\n",
              "      <td>3.184161</td>\n",
              "      <td>11.175514</td>\n",
              "      <td>69.137859</td>\n",
              "      <td>4.552813</td>\n",
              "      <td>67.238013</td>\n",
              "      <td>5.598209</td>\n",
              "      <td>1.593952</td>\n",
              "      <td>1598.078779</td>\n",
              "      <td>25.472067</td>\n",
              "      <td>0.500228</td>\n",
              "    </tr>\n",
              "    <tr>\n",
              "      <th>min</th>\n",
              "      <td>907.990000</td>\n",
              "      <td>36.752000</td>\n",
              "      <td>15.500000</td>\n",
              "      <td>0.693451</td>\n",
              "      <td>28.900000</td>\n",
              "      <td>1.185578</td>\n",
              "      <td>0.000000</td>\n",
              "      <td>0.000000</td>\n",
              "      <td>6.090000</td>\n",
              "      <td>0.000000</td>\n",
              "    </tr>\n",
              "    <tr>\n",
              "      <th>25%</th>\n",
              "      <td>916.550000</td>\n",
              "      <td>57.281000</td>\n",
              "      <td>65.972506</td>\n",
              "      <td>2.248768</td>\n",
              "      <td>76.553003</td>\n",
              "      <td>3.067477</td>\n",
              "      <td>0.000000</td>\n",
              "      <td>0.000000</td>\n",
              "      <td>15.092243</td>\n",
              "      <td>0.000000</td>\n",
              "    </tr>\n",
              "    <tr>\n",
              "      <th>50%</th>\n",
              "      <td>918.921045</td>\n",
              "      <td>65.715479</td>\n",
              "      <td>166.000000</td>\n",
              "      <td>3.871333</td>\n",
              "      <td>177.300000</td>\n",
              "      <td>4.943637</td>\n",
              "      <td>0.000000</td>\n",
              "      <td>0.000000</td>\n",
              "      <td>23.179259</td>\n",
              "      <td>0.000000</td>\n",
              "    </tr>\n",
              "    <tr>\n",
              "      <th>75%</th>\n",
              "      <td>921.160073</td>\n",
              "      <td>73.450974</td>\n",
              "      <td>191.000000</td>\n",
              "      <td>7.337163</td>\n",
              "      <td>201.233153</td>\n",
              "      <td>8.947760</td>\n",
              "      <td>0.000000</td>\n",
              "      <td>0.000000</td>\n",
              "      <td>45.400000</td>\n",
              "      <td>1.000000</td>\n",
              "    </tr>\n",
              "    <tr>\n",
              "      <th>max</th>\n",
              "      <td>929.320000</td>\n",
              "      <td>98.906000</td>\n",
              "      <td>343.400000</td>\n",
              "      <td>23.554978</td>\n",
              "      <td>312.200000</td>\n",
              "      <td>29.840780</td>\n",
              "      <td>24.020000</td>\n",
              "      <td>17704.000000</td>\n",
              "      <td>92.620000</td>\n",
              "      <td>1.000000</td>\n",
              "    </tr>\n",
              "  </tbody>\n",
              "</table>\n",
              "</div>"
            ],
            "text/plain": [
              "       air_pressure_9am  air_temp_9am  ...  relative_humidity_9am  high_humidity_3pm\n",
              "count       1092.000000   1090.000000  ...            1095.000000        1095.000000\n",
              "mean         918.882551     64.933001  ...              34.241402           0.499543\n",
              "std            3.184161     11.175514  ...              25.472067           0.500228\n",
              "min          907.990000     36.752000  ...               6.090000           0.000000\n",
              "25%          916.550000     57.281000  ...              15.092243           0.000000\n",
              "50%          918.921045     65.715479  ...              23.179259           0.000000\n",
              "75%          921.160073     73.450974  ...              45.400000           1.000000\n",
              "max          929.320000     98.906000  ...              92.620000           1.000000\n",
              "\n",
              "[8 rows x 10 columns]"
            ]
          },
          "metadata": {},
          "execution_count": 9
        }
      ]
    },
    {
      "cell_type": "code",
      "metadata": {
        "colab": {
          "base_uri": "https://localhost:8080/"
        },
        "id": "Vv_1kzG6jkk3",
        "outputId": "e6daab69-ffa6-4903-bb57-7224c3de447a"
      },
      "source": [
        "data['high_humidity_3pm'].value_counts()"
      ],
      "execution_count": null,
      "outputs": [
        {
          "output_type": "execute_result",
          "data": {
            "text/plain": [
              "0    548\n",
              "1    547\n",
              "Name: high_humidity_3pm, dtype: int64"
            ]
          },
          "metadata": {},
          "execution_count": 10
        }
      ]
    },
    {
      "cell_type": "code",
      "metadata": {
        "id": "kJ2lB_GTjult"
      },
      "source": [
        "data.dropna(inplace=True)"
      ],
      "execution_count": null,
      "outputs": []
    },
    {
      "cell_type": "code",
      "metadata": {
        "colab": {
          "base_uri": "https://localhost:8080/"
        },
        "id": "aPr_iamcj8-g",
        "outputId": "f6420ffa-520b-4631-cf3d-691f667881c1"
      },
      "source": [
        "data.shape"
      ],
      "execution_count": null,
      "outputs": [
        {
          "output_type": "execute_result",
          "data": {
            "text/plain": [
              "(1064, 10)"
            ]
          },
          "metadata": {},
          "execution_count": 12
        }
      ]
    },
    {
      "cell_type": "code",
      "metadata": {
        "id": "dMZznIaGj9ul"
      },
      "source": [
        "dependent_variable='high_humidity_3pm'"
      ],
      "execution_count": null,
      "outputs": []
    },
    {
      "cell_type": "code",
      "metadata": {
        "id": "o9rfIr5ikIui"
      },
      "source": [
        "indepenedt_variable=['air_pressure_9am', 'air_temp_9am', 'avg_wind_direction_9am',\n",
        "       'avg_wind_speed_9am', 'max_wind_direction_9am', 'max_wind_speed_9am',\n",
        "       'rain_accumulation_9am', 'rain_duration_9am', 'relative_humidity_9am']"
      ],
      "execution_count": null,
      "outputs": []
    },
    {
      "cell_type": "code",
      "metadata": {
        "id": "JNjRNHL7kVD7"
      },
      "source": [
        "x=data[indepenedt_variable]"
      ],
      "execution_count": null,
      "outputs": []
    },
    {
      "cell_type": "code",
      "metadata": {
        "id": "j6-TUYdjkZZu"
      },
      "source": [
        "y=data[dependent_variable]"
      ],
      "execution_count": null,
      "outputs": []
    },
    {
      "cell_type": "code",
      "metadata": {
        "id": "TB-Nfwemkehv"
      },
      "source": [
        "X_train,X_test,y_train,y_test=train_test_split(x,y,test_size=0.33,random_state=234)"
      ],
      "execution_count": null,
      "outputs": []
    },
    {
      "cell_type": "markdown",
      "metadata": {
        "id": "XJhE83Quk4dt"
      },
      "source": [
        "# fit on train "
      ]
    },
    {
      "cell_type": "code",
      "metadata": {
        "colab": {
          "base_uri": "https://localhost:8080/"
        },
        "id": "pBYw130hk1hW",
        "outputId": "f570c66e-3d1c-4ba0-ef2b-4b9acc653671"
      },
      "source": [
        "humidity_classifier=DecisionTreeClassifier(criterion='entropy',max_leaf_nodes=10,random_state=324)\n",
        "humidity_classifier.fit(X_train,y_train)"
      ],
      "execution_count": null,
      "outputs": [
        {
          "output_type": "execute_result",
          "data": {
            "text/plain": [
              "DecisionTreeClassifier(ccp_alpha=0.0, class_weight=None, criterion='entropy',\n",
              "                       max_depth=None, max_features=None, max_leaf_nodes=10,\n",
              "                       min_impurity_decrease=0.0, min_impurity_split=None,\n",
              "                       min_samples_leaf=1, min_samples_split=2,\n",
              "                       min_weight_fraction_leaf=0.0, presort='deprecated',\n",
              "                       random_state=324, splitter='best')"
            ]
          },
          "metadata": {},
          "execution_count": 24
        }
      ]
    },
    {
      "cell_type": "markdown",
      "metadata": {
        "id": "GGCjX1DRlx9h"
      },
      "source": [
        "# Predict on Test Set"
      ]
    },
    {
      "cell_type": "code",
      "metadata": {
        "id": "EIk7xdW_lhvB"
      },
      "source": [
        "y_predicted=humidity_classifier.predict(X_test)"
      ],
      "execution_count": null,
      "outputs": []
    },
    {
      "cell_type": "code",
      "metadata": {
        "colab": {
          "base_uri": "https://localhost:8080/"
        },
        "id": "fK9Fm5Sml7i-",
        "outputId": "e791077c-dcb6-4f83-8bb1-13dfce710e2c"
      },
      "source": [
        "y_predicted[:10]"
      ],
      "execution_count": null,
      "outputs": [
        {
          "output_type": "execute_result",
          "data": {
            "text/plain": [
              "array([1, 0, 0, 1, 1, 0, 1, 0, 0, 0])"
            ]
          },
          "metadata": {},
          "execution_count": 26
        }
      ]
    },
    {
      "cell_type": "code",
      "metadata": {
        "colab": {
          "base_uri": "https://localhost:8080/"
        },
        "id": "wEKGz0IpmIH3",
        "outputId": "7b83953c-4099-4226-9790-d45c6e156329"
      },
      "source": [
        "y_test[:10]"
      ],
      "execution_count": null,
      "outputs": [
        {
          "output_type": "execute_result",
          "data": {
            "text/plain": [
              "909    0\n",
              "265    1\n",
              "758    0\n",
              "956    1\n",
              "507    1\n",
              "980    0\n",
              "605    1\n",
              "903    0\n",
              "629    0\n",
              "362    0\n",
              "Name: high_humidity_3pm, dtype: int64"
            ]
          },
          "metadata": {},
          "execution_count": 27
        }
      ]
    },
    {
      "cell_type": "code",
      "metadata": {
        "colab": {
          "base_uri": "https://localhost:8080/"
        },
        "id": "Oqq852bEmXgT",
        "outputId": "3a671bfe-d089-4402-c894-1e440916098b"
      },
      "source": [
        "accuracy_score(y_test,y_predicted)*100"
      ],
      "execution_count": null,
      "outputs": [
        {
          "output_type": "execute_result",
          "data": {
            "text/plain": [
              "88.35227272727273"
            ]
          },
          "metadata": {},
          "execution_count": 29
        }
      ]
    },
    {
      "cell_type": "code",
      "metadata": {
        "colab": {
          "base_uri": "https://localhost:8080/"
        },
        "id": "WvUYH0zDmeQ_",
        "outputId": "96b1dcb2-38e4-4239-9aaf-b254830ec857"
      },
      "source": [
        "data.iloc[-1]"
      ],
      "execution_count": null,
      "outputs": [
        {
          "output_type": "execute_result",
          "data": {
            "text/plain": [
              "air_pressure_9am          921.530000\n",
              "air_temp_9am               77.702000\n",
              "avg_wind_direction_9am     97.100000\n",
              "avg_wind_speed_9am          3.265932\n",
              "max_wind_direction_9am    125.900000\n",
              "max_wind_speed_9am          4.451511\n",
              "rain_accumulation_9am       0.000000\n",
              "rain_duration_9am           0.000000\n",
              "relative_humidity_9am      14.560000\n",
              "high_humidity_3pm           0.000000\n",
              "Name: 1094, dtype: float64"
            ]
          },
          "metadata": {},
          "execution_count": 30
        }
      ]
    },
    {
      "cell_type": "markdown",
      "metadata": {
        "id": "9YZR5Ld5m2Ap"
      },
      "source": [
        "#Visulising Decision tree\n"
      ]
    },
    {
      "cell_type": "code",
      "metadata": {
        "id": "WZcy8eE-mj_p"
      },
      "source": [
        "from sklearn.tree import DecisionTreeClassifier,export_graphviz\n",
        "from sklearn import tree\n",
        "from IPython.display import SVG\n",
        "from graphviz import Source\n",
        "from IPython.display import display"
      ],
      "execution_count": null,
      "outputs": []
    },
    {
      "cell_type": "code",
      "metadata": {
        "id": "MbilMU6CnV13"
      },
      "source": [
        "graph=Source(tree.export_graphviz(humidity_classifier,out_file=None,feature_names=X_train.columns,class_names=['0','1'],filled=True))"
      ],
      "execution_count": null,
      "outputs": []
    },
    {
      "cell_type": "code",
      "metadata": {
        "colab": {
          "base_uri": "https://localhost:8080/",
          "height": 777
        },
        "id": "MwoKy1rUn09a",
        "outputId": "0ba3b91e-f0e8-4c0d-9958-47007010c595"
      },
      "source": [
        "display(SVG(graph.pipe(format='svg')))"
      ],
      "execution_count": null,
      "outputs": [
        {
          "output_type": "display_data",
          "data": {
            "text/plain": [
              "<IPython.core.display.SVG object>"
            ],
            "image/svg+xml": "<svg height=\"552pt\" viewBox=\"0.00 0.00 1173.00 552.00\" width=\"1173pt\" xmlns=\"http://www.w3.org/2000/svg\" xmlns:xlink=\"http://www.w3.org/1999/xlink\">\n<g class=\"graph\" id=\"graph0\" transform=\"scale(1 1) rotate(0) translate(4 548)\">\n<title>Tree</title>\n<polygon fill=\"#ffffff\" points=\"-4,4 -4,-548 1169,-548 1169,4 -4,4\" stroke=\"transparent\"/>\n<!-- 0 -->\n<g class=\"node\" id=\"node1\">\n<title>0</title>\n<polygon fill=\"#fbfdfe\" points=\"685,-544 477,-544 477,-461 685,-461 685,-544\" stroke=\"#000000\"/>\n<text fill=\"#000000\" font-family=\"Times,serif\" font-size=\"14.00\" text-anchor=\"middle\" x=\"581\" y=\"-528.8\">relative_humidity_9am &lt;= 25.38</text>\n<text fill=\"#000000\" font-family=\"Times,serif\" font-size=\"14.00\" text-anchor=\"middle\" x=\"581\" y=\"-513.8\">entropy = 1.0</text>\n<text fill=\"#000000\" font-family=\"Times,serif\" font-size=\"14.00\" text-anchor=\"middle\" x=\"581\" y=\"-498.8\">samples = 712</text>\n<text fill=\"#000000\" font-family=\"Times,serif\" font-size=\"14.00\" text-anchor=\"middle\" x=\"581\" y=\"-483.8\">value = [352, 360]</text>\n<text fill=\"#000000\" font-family=\"Times,serif\" font-size=\"14.00\" text-anchor=\"middle\" x=\"581\" y=\"-468.8\">class = 1</text>\n</g>\n<!-- 1 -->\n<g class=\"node\" id=\"node2\">\n<title>1</title>\n<polygon fill=\"#e9965a\" points=\"562,-425 372,-425 372,-342 562,-342 562,-425\" stroke=\"#000000\"/>\n<text fill=\"#000000\" font-family=\"Times,serif\" font-size=\"14.00\" text-anchor=\"middle\" x=\"467\" y=\"-409.8\">air_pressure_9am &lt;= 918.619</text>\n<text fill=\"#000000\" font-family=\"Times,serif\" font-size=\"14.00\" text-anchor=\"middle\" x=\"467\" y=\"-394.8\">entropy = 0.595</text>\n<text fill=\"#000000\" font-family=\"Times,serif\" font-size=\"14.00\" text-anchor=\"middle\" x=\"467\" y=\"-379.8\">samples = 375</text>\n<text fill=\"#000000\" font-family=\"Times,serif\" font-size=\"14.00\" text-anchor=\"middle\" x=\"467\" y=\"-364.8\">value = [321, 54]</text>\n<text fill=\"#000000\" font-family=\"Times,serif\" font-size=\"14.00\" text-anchor=\"middle\" x=\"467\" y=\"-349.8\">class = 0</text>\n</g>\n<!-- 0&#45;&gt;1 -->\n<g class=\"edge\" id=\"edge1\">\n<title>0-&gt;1</title>\n<path d=\"M541.1283,-460.8796C532.4142,-451.7832 523.1112,-442.0722 514.1438,-432.7116\" fill=\"none\" stroke=\"#000000\"/>\n<polygon fill=\"#000000\" points=\"516.487,-430.098 507.0419,-425.2981 511.4322,-434.9405 516.487,-430.098\" stroke=\"#000000\"/>\n<text fill=\"#000000\" font-family=\"Times,serif\" font-size=\"14.00\" text-anchor=\"middle\" x=\"506.5055\" y=\"-446.5923\">True</text>\n</g>\n<!-- 2 -->\n<g class=\"node\" id=\"node11\">\n<title>2</title>\n<polygon fill=\"#4da7e8\" points=\"823.5,-425 608.5,-425 608.5,-342 823.5,-342 823.5,-425\" stroke=\"#000000\"/>\n<text fill=\"#000000\" font-family=\"Times,serif\" font-size=\"14.00\" text-anchor=\"middle\" x=\"716\" y=\"-409.8\">relative_humidity_9am &lt;= 32.025</text>\n<text fill=\"#000000\" font-family=\"Times,serif\" font-size=\"14.00\" text-anchor=\"middle\" x=\"716\" y=\"-394.8\">entropy = 0.443</text>\n<text fill=\"#000000\" font-family=\"Times,serif\" font-size=\"14.00\" text-anchor=\"middle\" x=\"716\" y=\"-379.8\">samples = 337</text>\n<text fill=\"#000000\" font-family=\"Times,serif\" font-size=\"14.00\" text-anchor=\"middle\" x=\"716\" y=\"-364.8\">value = [31, 306]</text>\n<text fill=\"#000000\" font-family=\"Times,serif\" font-size=\"14.00\" text-anchor=\"middle\" x=\"716\" y=\"-349.8\">class = 1</text>\n</g>\n<!-- 0&#45;&gt;2 -->\n<g class=\"edge\" id=\"edge10\">\n<title>0-&gt;2</title>\n<path d=\"M628.2164,-460.8796C638.7402,-451.6031 649.9891,-441.6874 660.8021,-432.1559\" fill=\"none\" stroke=\"#000000\"/>\n<polygon fill=\"#000000\" points=\"663.3948,-434.5362 668.582,-425.2981 658.766,-429.2851 663.3948,-434.5362\" stroke=\"#000000\"/>\n<text fill=\"#000000\" font-family=\"Times,serif\" font-size=\"14.00\" text-anchor=\"middle\" x=\"667.0103\" y=\"-446.5486\">False</text>\n</g>\n<!-- 3 -->\n<g class=\"node\" id=\"node3\">\n<title>3</title>\n<polygon fill=\"#f4caab\" points=\"290.5,-306 75.5,-306 75.5,-223 290.5,-223 290.5,-306\" stroke=\"#000000\"/>\n<text fill=\"#000000\" font-family=\"Times,serif\" font-size=\"14.00\" text-anchor=\"middle\" x=\"183\" y=\"-290.8\">relative_humidity_9am &lt;= 21.196</text>\n<text fill=\"#000000\" font-family=\"Times,serif\" font-size=\"14.00\" text-anchor=\"middle\" x=\"183\" y=\"-275.8\">entropy = 0.948</text>\n<text fill=\"#000000\" font-family=\"Times,serif\" font-size=\"14.00\" text-anchor=\"middle\" x=\"183\" y=\"-260.8\">samples = 112</text>\n<text fill=\"#000000\" font-family=\"Times,serif\" font-size=\"14.00\" text-anchor=\"middle\" x=\"183\" y=\"-245.8\">value = [71, 41]</text>\n<text fill=\"#000000\" font-family=\"Times,serif\" font-size=\"14.00\" text-anchor=\"middle\" x=\"183\" y=\"-230.8\">class = 0</text>\n</g>\n<!-- 1&#45;&gt;3 -->\n<g class=\"edge\" id=\"edge2\">\n<title>1-&gt;3</title>\n<path d=\"M371.6421,-343.5437C345.9839,-332.7925 318.0401,-321.0837 291.7139,-310.0527\" fill=\"none\" stroke=\"#000000\"/>\n<polygon fill=\"#000000\" points=\"293.0516,-306.8184 282.4759,-306.1818 290.3463,-313.2745 293.0516,-306.8184\" stroke=\"#000000\"/>\n</g>\n<!-- 4 -->\n<g class=\"node\" id=\"node6\">\n<title>4</title>\n<polygon fill=\"#e68843\" points=\"567,-306 367,-306 367,-223 567,-223 567,-306\" stroke=\"#000000\"/>\n<text fill=\"#000000\" font-family=\"Times,serif\" font-size=\"14.00\" text-anchor=\"middle\" x=\"467\" y=\"-290.8\">max_wind_speed_9am &lt;= 6.89</text>\n<text fill=\"#000000\" font-family=\"Times,serif\" font-size=\"14.00\" text-anchor=\"middle\" x=\"467\" y=\"-275.8\">entropy = 0.284</text>\n<text fill=\"#000000\" font-family=\"Times,serif\" font-size=\"14.00\" text-anchor=\"middle\" x=\"467\" y=\"-260.8\">samples = 263</text>\n<text fill=\"#000000\" font-family=\"Times,serif\" font-size=\"14.00\" text-anchor=\"middle\" x=\"467\" y=\"-245.8\">value = [250, 13]</text>\n<text fill=\"#000000\" font-family=\"Times,serif\" font-size=\"14.00\" text-anchor=\"middle\" x=\"467\" y=\"-230.8\">class = 0</text>\n</g>\n<!-- 1&#45;&gt;4 -->\n<g class=\"edge\" id=\"edge5\">\n<title>1-&gt;4</title>\n<path d=\"M467,-341.8796C467,-333.6838 467,-324.9891 467,-316.5013\" fill=\"none\" stroke=\"#000000\"/>\n<polygon fill=\"#000000\" points=\"470.5001,-316.298 467,-306.2981 463.5001,-316.2981 470.5001,-316.298\" stroke=\"#000000\"/>\n</g>\n<!-- 13 -->\n<g class=\"node\" id=\"node4\">\n<title>13</title>\n<polygon fill=\"#efb184\" points=\"110,-179.5 0,-179.5 0,-111.5 110,-111.5 110,-179.5\" stroke=\"#000000\"/>\n<text fill=\"#000000\" font-family=\"Times,serif\" font-size=\"14.00\" text-anchor=\"middle\" x=\"55\" y=\"-164.3\">entropy = 0.847</text>\n<text fill=\"#000000\" font-family=\"Times,serif\" font-size=\"14.00\" text-anchor=\"middle\" x=\"55\" y=\"-149.3\">samples = 84</text>\n<text fill=\"#000000\" font-family=\"Times,serif\" font-size=\"14.00\" text-anchor=\"middle\" x=\"55\" y=\"-134.3\">value = [61, 23]</text>\n<text fill=\"#000000\" font-family=\"Times,serif\" font-size=\"14.00\" text-anchor=\"middle\" x=\"55\" y=\"-119.3\">class = 0</text>\n</g>\n<!-- 3&#45;&gt;13 -->\n<g class=\"edge\" id=\"edge3\">\n<title>3-&gt;13</title>\n<path d=\"M138.2318,-222.8796C125.6944,-211.2237 112.0716,-198.5587 99.547,-186.9148\" fill=\"none\" stroke=\"#000000\"/>\n<polygon fill=\"#000000\" points=\"101.6172,-184.0605 91.9102,-179.8149 96.8509,-189.1872 101.6172,-184.0605\" stroke=\"#000000\"/>\n</g>\n<!-- 14 -->\n<g class=\"node\" id=\"node5\">\n<title>14</title>\n<polygon fill=\"#a7d3f3\" points=\"238,-179.5 128,-179.5 128,-111.5 238,-111.5 238,-179.5\" stroke=\"#000000\"/>\n<text fill=\"#000000\" font-family=\"Times,serif\" font-size=\"14.00\" text-anchor=\"middle\" x=\"183\" y=\"-164.3\">entropy = 0.94</text>\n<text fill=\"#000000\" font-family=\"Times,serif\" font-size=\"14.00\" text-anchor=\"middle\" x=\"183\" y=\"-149.3\">samples = 28</text>\n<text fill=\"#000000\" font-family=\"Times,serif\" font-size=\"14.00\" text-anchor=\"middle\" x=\"183\" y=\"-134.3\">value = [10, 18]</text>\n<text fill=\"#000000\" font-family=\"Times,serif\" font-size=\"14.00\" text-anchor=\"middle\" x=\"183\" y=\"-119.3\">class = 1</text>\n</g>\n<!-- 3&#45;&gt;14 -->\n<g class=\"edge\" id=\"edge4\">\n<title>3-&gt;14</title>\n<path d=\"M183,-222.8796C183,-212.2134 183,-200.7021 183,-189.9015\" fill=\"none\" stroke=\"#000000\"/>\n<polygon fill=\"#000000\" points=\"186.5001,-189.8149 183,-179.8149 179.5001,-189.815 186.5001,-189.8149\" stroke=\"#000000\"/>\n</g>\n<!-- 9 -->\n<g class=\"node\" id=\"node7\">\n<title>9</title>\n<polygon fill=\"#e78d4b\" points=\"431.5,-187 256.5,-187 256.5,-104 431.5,-104 431.5,-187\" stroke=\"#000000\"/>\n<text fill=\"#000000\" font-family=\"Times,serif\" font-size=\"14.00\" text-anchor=\"middle\" x=\"344\" y=\"-171.8\">air_pressure_9am &lt;= 923.8</text>\n<text fill=\"#000000\" font-family=\"Times,serif\" font-size=\"14.00\" text-anchor=\"middle\" x=\"344\" y=\"-156.8\">entropy = 0.419</text>\n<text fill=\"#000000\" font-family=\"Times,serif\" font-size=\"14.00\" text-anchor=\"middle\" x=\"344\" y=\"-141.8\">samples = 153</text>\n<text fill=\"#000000\" font-family=\"Times,serif\" font-size=\"14.00\" text-anchor=\"middle\" x=\"344\" y=\"-126.8\">value = [140, 13]</text>\n<text fill=\"#000000\" font-family=\"Times,serif\" font-size=\"14.00\" text-anchor=\"middle\" x=\"344\" y=\"-111.8\">class = 0</text>\n</g>\n<!-- 4&#45;&gt;9 -->\n<g class=\"edge\" id=\"edge6\">\n<title>4-&gt;9</title>\n<path d=\"M423.9806,-222.8796C414.4853,-213.6931 404.3422,-203.8798 394.5785,-194.4336\" fill=\"none\" stroke=\"#000000\"/>\n<polygon fill=\"#000000\" points=\"396.8237,-191.7359 387.203,-187.2981 391.9564,-196.7668 396.8237,-191.7359\" stroke=\"#000000\"/>\n</g>\n<!-- 10 -->\n<g class=\"node\" id=\"node10\">\n<title>10</title>\n<polygon fill=\"#e58139\" points=\"558.5,-179.5 449.5,-179.5 449.5,-111.5 558.5,-111.5 558.5,-179.5\" stroke=\"#000000\"/>\n<text fill=\"#000000\" font-family=\"Times,serif\" font-size=\"14.00\" text-anchor=\"middle\" x=\"504\" y=\"-164.3\">entropy = 0.0</text>\n<text fill=\"#000000\" font-family=\"Times,serif\" font-size=\"14.00\" text-anchor=\"middle\" x=\"504\" y=\"-149.3\">samples = 110</text>\n<text fill=\"#000000\" font-family=\"Times,serif\" font-size=\"14.00\" text-anchor=\"middle\" x=\"504\" y=\"-134.3\">value = [110, 0]</text>\n<text fill=\"#000000\" font-family=\"Times,serif\" font-size=\"14.00\" text-anchor=\"middle\" x=\"504\" y=\"-119.3\">class = 0</text>\n</g>\n<!-- 4&#45;&gt;10 -->\n<g class=\"edge\" id=\"edge9\">\n<title>4-&gt;10</title>\n<path d=\"M479.9408,-222.8796C483.2914,-212.1034 486.9101,-200.4647 490.2983,-189.5677\" fill=\"none\" stroke=\"#000000\"/>\n<polygon fill=\"#000000\" points=\"493.7037,-190.4032 493.3307,-179.8149 487.0194,-188.3248 493.7037,-190.4032\" stroke=\"#000000\"/>\n</g>\n<!-- 11 -->\n<g class=\"node\" id=\"node8\">\n<title>11</title>\n<polygon fill=\"#e78945\" points=\"359,-68 249,-68 249,0 359,0 359,-68\" stroke=\"#000000\"/>\n<text fill=\"#000000\" font-family=\"Times,serif\" font-size=\"14.00\" text-anchor=\"middle\" x=\"304\" y=\"-52.8\">entropy = 0.313</text>\n<text fill=\"#000000\" font-family=\"Times,serif\" font-size=\"14.00\" text-anchor=\"middle\" x=\"304\" y=\"-37.8\">samples = 142</text>\n<text fill=\"#000000\" font-family=\"Times,serif\" font-size=\"14.00\" text-anchor=\"middle\" x=\"304\" y=\"-22.8\">value = [134, 8]</text>\n<text fill=\"#000000\" font-family=\"Times,serif\" font-size=\"14.00\" text-anchor=\"middle\" x=\"304\" y=\"-7.8\">class = 0</text>\n</g>\n<!-- 9&#45;&gt;11 -->\n<g class=\"edge\" id=\"edge7\">\n<title>9-&gt;11</title>\n<path d=\"M329.1055,-103.9815C326.0392,-95.4342 322.8013,-86.4086 319.7072,-77.7839\" fill=\"none\" stroke=\"#000000\"/>\n<polygon fill=\"#000000\" points=\"322.9631,-76.4944 316.2919,-68.2637 316.3743,-78.8582 322.9631,-76.4944\" stroke=\"#000000\"/>\n</g>\n<!-- 12 -->\n<g class=\"node\" id=\"node9\">\n<title>12</title>\n<polygon fill=\"#fbeade\" points=\"487,-68 377,-68 377,0 487,0 487,-68\" stroke=\"#000000\"/>\n<text fill=\"#000000\" font-family=\"Times,serif\" font-size=\"14.00\" text-anchor=\"middle\" x=\"432\" y=\"-52.8\">entropy = 0.994</text>\n<text fill=\"#000000\" font-family=\"Times,serif\" font-size=\"14.00\" text-anchor=\"middle\" x=\"432\" y=\"-37.8\">samples = 11</text>\n<text fill=\"#000000\" font-family=\"Times,serif\" font-size=\"14.00\" text-anchor=\"middle\" x=\"432\" y=\"-22.8\">value = [6, 5]</text>\n<text fill=\"#000000\" font-family=\"Times,serif\" font-size=\"14.00\" text-anchor=\"middle\" x=\"432\" y=\"-7.8\">class = 0</text>\n</g>\n<!-- 9&#45;&gt;12 -->\n<g class=\"edge\" id=\"edge8\">\n<title>9-&gt;12</title>\n<path d=\"M376.768,-103.9815C383.949,-94.8828 391.5579,-85.242 398.7574,-76.1199\" fill=\"none\" stroke=\"#000000\"/>\n<polygon fill=\"#000000\" points=\"401.5099,-78.2818 404.9578,-68.2637 396.0151,-73.9451 401.5099,-78.2818\" stroke=\"#000000\"/>\n</g>\n<!-- 5 -->\n<g class=\"node\" id=\"node12\">\n<title>5</title>\n<polygon fill=\"#9acdf2\" points=\"827,-306 605,-306 605,-223 827,-223 827,-306\" stroke=\"#000000\"/>\n<text fill=\"#000000\" font-family=\"Times,serif\" font-size=\"14.00\" text-anchor=\"middle\" x=\"716\" y=\"-290.8\">avg_wind_direction_9am &lt;= 93.37</text>\n<text fill=\"#000000\" font-family=\"Times,serif\" font-size=\"14.00\" text-anchor=\"middle\" x=\"716\" y=\"-275.8\">entropy = 0.913</text>\n<text fill=\"#000000\" font-family=\"Times,serif\" font-size=\"14.00\" text-anchor=\"middle\" x=\"716\" y=\"-260.8\">samples = 67</text>\n<text fill=\"#000000\" font-family=\"Times,serif\" font-size=\"14.00\" text-anchor=\"middle\" x=\"716\" y=\"-245.8\">value = [22, 45]</text>\n<text fill=\"#000000\" font-family=\"Times,serif\" font-size=\"14.00\" text-anchor=\"middle\" x=\"716\" y=\"-230.8\">class = 1</text>\n</g>\n<!-- 2&#45;&gt;5 -->\n<g class=\"edge\" id=\"edge11\">\n<title>2-&gt;5</title>\n<path d=\"M716,-341.8796C716,-333.6838 716,-324.9891 716,-316.5013\" fill=\"none\" stroke=\"#000000\"/>\n<polygon fill=\"#000000\" points=\"719.5001,-316.298 716,-306.2981 712.5001,-316.2981 719.5001,-316.298\" stroke=\"#000000\"/>\n</g>\n<!-- 6 -->\n<g class=\"node\" id=\"node17\">\n<title>6</title>\n<polygon fill=\"#40a0e6\" points=\"1077,-306 887,-306 887,-223 1077,-223 1077,-306\" stroke=\"#000000\"/>\n<text fill=\"#000000\" font-family=\"Times,serif\" font-size=\"14.00\" text-anchor=\"middle\" x=\"982\" y=\"-290.8\">air_pressure_9am &lt;= 920.545</text>\n<text fill=\"#000000\" font-family=\"Times,serif\" font-size=\"14.00\" text-anchor=\"middle\" x=\"982\" y=\"-275.8\">entropy = 0.211</text>\n<text fill=\"#000000\" font-family=\"Times,serif\" font-size=\"14.00\" text-anchor=\"middle\" x=\"982\" y=\"-260.8\">samples = 270</text>\n<text fill=\"#000000\" font-family=\"Times,serif\" font-size=\"14.00\" text-anchor=\"middle\" x=\"982\" y=\"-245.8\">value = [9, 261]</text>\n<text fill=\"#000000\" font-family=\"Times,serif\" font-size=\"14.00\" text-anchor=\"middle\" x=\"982\" y=\"-230.8\">class = 1</text>\n</g>\n<!-- 2&#45;&gt;6 -->\n<g class=\"edge\" id=\"edge16\">\n<title>2-&gt;6</title>\n<path d=\"M809.0339,-341.8796C831.915,-331.6433 856.536,-320.6286 879.8228,-310.2108\" fill=\"none\" stroke=\"#000000\"/>\n<polygon fill=\"#000000\" points=\"881.3197,-313.3755 889.0186,-306.0969 878.4611,-306.9858 881.3197,-313.3755\" stroke=\"#000000\"/>\n</g>\n<!-- 15 -->\n<g class=\"node\" id=\"node13\">\n<title>15</title>\n<polygon fill=\"#efb388\" points=\"781,-187 577,-187 577,-104 781,-104 781,-187\" stroke=\"#000000\"/>\n<text fill=\"#000000\" font-family=\"Times,serif\" font-size=\"14.00\" text-anchor=\"middle\" x=\"679\" y=\"-171.8\">avg_wind_speed_9am &lt;= 4.474</text>\n<text fill=\"#000000\" font-family=\"Times,serif\" font-size=\"14.00\" text-anchor=\"middle\" x=\"679\" y=\"-156.8\">entropy = 0.863</text>\n<text fill=\"#000000\" font-family=\"Times,serif\" font-size=\"14.00\" text-anchor=\"middle\" x=\"679\" y=\"-141.8\">samples = 14</text>\n<text fill=\"#000000\" font-family=\"Times,serif\" font-size=\"14.00\" text-anchor=\"middle\" x=\"679\" y=\"-126.8\">value = [10, 4]</text>\n<text fill=\"#000000\" font-family=\"Times,serif\" font-size=\"14.00\" text-anchor=\"middle\" x=\"679\" y=\"-111.8\">class = 0</text>\n</g>\n<!-- 5&#45;&gt;15 -->\n<g class=\"edge\" id=\"edge12\">\n<title>5-&gt;15</title>\n<path d=\"M703.0592,-222.8796C700.4549,-214.5037 697.6886,-205.6067 694.9946,-196.942\" fill=\"none\" stroke=\"#000000\"/>\n<polygon fill=\"#000000\" points=\"698.3073,-195.808 691.996,-187.2981 691.623,-197.8863 698.3073,-195.808\" stroke=\"#000000\"/>\n</g>\n<!-- 16 -->\n<g class=\"node\" id=\"node16\">\n<title>16</title>\n<polygon fill=\"#73baed\" points=\"909,-179.5 799,-179.5 799,-111.5 909,-111.5 909,-179.5\" stroke=\"#000000\"/>\n<text fill=\"#000000\" font-family=\"Times,serif\" font-size=\"14.00\" text-anchor=\"middle\" x=\"854\" y=\"-164.3\">entropy = 0.772</text>\n<text fill=\"#000000\" font-family=\"Times,serif\" font-size=\"14.00\" text-anchor=\"middle\" x=\"854\" y=\"-149.3\">samples = 53</text>\n<text fill=\"#000000\" font-family=\"Times,serif\" font-size=\"14.00\" text-anchor=\"middle\" x=\"854\" y=\"-134.3\">value = [12, 41]</text>\n<text fill=\"#000000\" font-family=\"Times,serif\" font-size=\"14.00\" text-anchor=\"middle\" x=\"854\" y=\"-119.3\">class = 1</text>\n</g>\n<!-- 5&#45;&gt;16 -->\n<g class=\"edge\" id=\"edge15\">\n<title>5-&gt;16</title>\n<path d=\"M764.2657,-222.8796C777.9101,-211.1138 792.7469,-198.3197 806.3546,-186.5855\" fill=\"none\" stroke=\"#000000\"/>\n<polygon fill=\"#000000\" points=\"808.9187,-188.9961 814.2062,-179.8149 804.3473,-183.6948 808.9187,-188.9961\" stroke=\"#000000\"/>\n</g>\n<!-- 17 -->\n<g class=\"node\" id=\"node14\">\n<title>17</title>\n<polygon fill=\"#6ab6ec\" points=\"654,-68 544,-68 544,0 654,0 654,-68\" stroke=\"#000000\"/>\n<text fill=\"#000000\" font-family=\"Times,serif\" font-size=\"14.00\" text-anchor=\"middle\" x=\"599\" y=\"-52.8\">entropy = 0.722</text>\n<text fill=\"#000000\" font-family=\"Times,serif\" font-size=\"14.00\" text-anchor=\"middle\" x=\"599\" y=\"-37.8\">samples = 5</text>\n<text fill=\"#000000\" font-family=\"Times,serif\" font-size=\"14.00\" text-anchor=\"middle\" x=\"599\" y=\"-22.8\">value = [1, 4]</text>\n<text fill=\"#000000\" font-family=\"Times,serif\" font-size=\"14.00\" text-anchor=\"middle\" x=\"599\" y=\"-7.8\">class = 1</text>\n</g>\n<!-- 15&#45;&gt;17 -->\n<g class=\"edge\" id=\"edge13\">\n<title>15-&gt;17</title>\n<path d=\"M649.211,-103.9815C642.7486,-94.9747 635.9052,-85.4367 629.419,-76.3965\" fill=\"none\" stroke=\"#000000\"/>\n<polygon fill=\"#000000\" points=\"632.2572,-74.3483 623.5838,-68.2637 626.5697,-78.4291 632.2572,-74.3483\" stroke=\"#000000\"/>\n</g>\n<!-- 18 -->\n<g class=\"node\" id=\"node15\">\n<title>18</title>\n<polygon fill=\"#e58139\" points=\"767.5,-68 672.5,-68 672.5,0 767.5,0 767.5,-68\" stroke=\"#000000\"/>\n<text fill=\"#000000\" font-family=\"Times,serif\" font-size=\"14.00\" text-anchor=\"middle\" x=\"720\" y=\"-52.8\">entropy = 0.0</text>\n<text fill=\"#000000\" font-family=\"Times,serif\" font-size=\"14.00\" text-anchor=\"middle\" x=\"720\" y=\"-37.8\">samples = 9</text>\n<text fill=\"#000000\" font-family=\"Times,serif\" font-size=\"14.00\" text-anchor=\"middle\" x=\"720\" y=\"-22.8\">value = [9, 0]</text>\n<text fill=\"#000000\" font-family=\"Times,serif\" font-size=\"14.00\" text-anchor=\"middle\" x=\"720\" y=\"-7.8\">class = 0</text>\n</g>\n<!-- 15&#45;&gt;18 -->\n<g class=\"edge\" id=\"edge14\">\n<title>15-&gt;18</title>\n<path d=\"M694.2669,-103.9815C697.4098,-95.4342 700.7287,-86.4086 703.9001,-77.7839\" fill=\"none\" stroke=\"#000000\"/>\n<polygon fill=\"#000000\" points=\"707.2345,-78.8572 707.4008,-68.2637 700.6646,-76.4413 707.2345,-78.8572\" stroke=\"#000000\"/>\n</g>\n<!-- 7 -->\n<g class=\"node\" id=\"node18\">\n<title>7</title>\n<polygon fill=\"#3b9ee5\" points=\"1037,-179.5 927,-179.5 927,-111.5 1037,-111.5 1037,-179.5\" stroke=\"#000000\"/>\n<text fill=\"#000000\" font-family=\"Times,serif\" font-size=\"14.00\" text-anchor=\"middle\" x=\"982\" y=\"-164.3\">entropy = 0.072</text>\n<text fill=\"#000000\" font-family=\"Times,serif\" font-size=\"14.00\" text-anchor=\"middle\" x=\"982\" y=\"-149.3\">samples = 232</text>\n<text fill=\"#000000\" font-family=\"Times,serif\" font-size=\"14.00\" text-anchor=\"middle\" x=\"982\" y=\"-134.3\">value = [2, 230]</text>\n<text fill=\"#000000\" font-family=\"Times,serif\" font-size=\"14.00\" text-anchor=\"middle\" x=\"982\" y=\"-119.3\">class = 1</text>\n</g>\n<!-- 6&#45;&gt;7 -->\n<g class=\"edge\" id=\"edge17\">\n<title>6-&gt;7</title>\n<path d=\"M982,-222.8796C982,-212.2134 982,-200.7021 982,-189.9015\" fill=\"none\" stroke=\"#000000\"/>\n<polygon fill=\"#000000\" points=\"985.5001,-189.8149 982,-179.8149 978.5001,-189.815 985.5001,-189.8149\" stroke=\"#000000\"/>\n</g>\n<!-- 8 -->\n<g class=\"node\" id=\"node19\">\n<title>8</title>\n<polygon fill=\"#66b3eb\" points=\"1165,-179.5 1055,-179.5 1055,-111.5 1165,-111.5 1165,-179.5\" stroke=\"#000000\"/>\n<text fill=\"#000000\" font-family=\"Times,serif\" font-size=\"14.00\" text-anchor=\"middle\" x=\"1110\" y=\"-164.3\">entropy = 0.689</text>\n<text fill=\"#000000\" font-family=\"Times,serif\" font-size=\"14.00\" text-anchor=\"middle\" x=\"1110\" y=\"-149.3\">samples = 38</text>\n<text fill=\"#000000\" font-family=\"Times,serif\" font-size=\"14.00\" text-anchor=\"middle\" x=\"1110\" y=\"-134.3\">value = [7, 31]</text>\n<text fill=\"#000000\" font-family=\"Times,serif\" font-size=\"14.00\" text-anchor=\"middle\" x=\"1110\" y=\"-119.3\">class = 1</text>\n</g>\n<!-- 6&#45;&gt;8 -->\n<g class=\"edge\" id=\"edge18\">\n<title>6-&gt;8</title>\n<path d=\"M1026.7682,-222.8796C1039.3056,-211.2237 1052.9284,-198.5587 1065.453,-186.9148\" fill=\"none\" stroke=\"#000000\"/>\n<polygon fill=\"#000000\" points=\"1068.1491,-189.1872 1073.0898,-179.8149 1063.3828,-184.0605 1068.1491,-189.1872\" stroke=\"#000000\"/>\n</g>\n</g>\n</svg>"
          },
          "metadata": {}
        }
      ]
    },
    {
      "cell_type": "code",
      "metadata": {
        "id": "3EdOeo_ioEbQ"
      },
      "source": [
        ""
      ],
      "execution_count": null,
      "outputs": []
    }
  ]
}