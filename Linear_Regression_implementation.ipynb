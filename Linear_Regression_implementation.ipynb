{
  "nbformat": 4,
  "nbformat_minor": 0,
  "metadata": {
    "colab": {
      "name": "Linear Regression implementation.ipynb",
      "provenance": [],
      "authorship_tag": "ABX9TyPfFXMzsVhD48FhYMtVCPWQ",
      "include_colab_link": true
    },
    "kernelspec": {
      "name": "python3",
      "display_name": "Python 3"
    },
    "language_info": {
      "name": "python"
    }
  },
  "cells": [
    {
      "cell_type": "markdown",
      "metadata": {
        "id": "view-in-github",
        "colab_type": "text"
      },
      "source": [
        "<a href=\"https://colab.research.google.com/github/Akramraza12349/Projects/blob/main/Linear_Regression_implementation.ipynb\" target=\"_parent\"><img src=\"https://colab.research.google.com/assets/colab-badge.svg\" alt=\"Open In Colab\"/></a>"
      ]
    },
    {
      "cell_type": "code",
      "metadata": {
        "id": "r3yYE9r94f-E"
      },
      "source": [
        ""
      ],
      "execution_count": null,
      "outputs": []
    },
    {
      "cell_type": "markdown",
      "metadata": {
        "id": "sC0BcRxfHChz"
      },
      "source": [
        "# Implementing Multiple Linear Regression"
      ]
    },
    {
      "cell_type": "markdown",
      "metadata": {
        "id": "ad3JbUuWHFI6"
      },
      "source": [
        "# Objective\n",
        "  To Predict the profit made by a startup on the basis of expenses incurred and the state where they operate\n",
        "  "
      ]
    },
    {
      "cell_type": "code",
      "metadata": {
        "id": "TqHqMIpXLATp"
      },
      "source": [
        "#  importing the libraries\n",
        "\n",
        "import numpy as np\n",
        "import pandas as pd\n",
        "from numpy import math\n",
        "\n",
        "from sklearn.preprocessing import MinMaxScaler\n",
        "from sklearn.model_selection import train_test_split\n",
        "from sklearn.linear_model import LinearRegression\n",
        "from sklearn.metrics import r2_score\n",
        "from sklearn.metrics import mean_squared_error\n",
        "\n",
        "import matplotlib.pyplot as plt"
      ],
      "execution_count": null,
      "outputs": []
    },
    {
      "cell_type": "code",
      "metadata": {
        "colab": {
          "base_uri": "https://localhost:8080/"
        },
        "id": "7QiSKIXwL2nb",
        "outputId": "0ea45242-6277-4da2-b1e3-cfcffabbc1e0"
      },
      "source": [
        "from google.colab import drive\n",
        "drive.mount('/content/drive')"
      ],
      "execution_count": null,
      "outputs": [
        {
          "output_type": "stream",
          "text": [
            "Mounted at /content/drive\n"
          ],
          "name": "stdout"
        }
      ]
    },
    {
      "cell_type": "code",
      "metadata": {
        "id": "guqbHC_jL_LX"
      },
      "source": [
        "file_path=\"/content/drive/MyDrive/AlmaBetter/Machine Learning/50_Startups.csv\""
      ],
      "execution_count": null,
      "outputs": []
    },
    {
      "cell_type": "code",
      "metadata": {
        "id": "cq9QfaQNMPeC"
      },
      "source": [
        "data_set=pd.read_csv(file_path)"
      ],
      "execution_count": null,
      "outputs": []
    },
    {
      "cell_type": "code",
      "metadata": {
        "colab": {
          "base_uri": "https://localhost:8080/",
          "height": 204
        },
        "id": "Mhcb-pgRMTvH",
        "outputId": "03135738-533b-499f-a959-2e82eda0d961"
      },
      "source": [
        "data_set.head()"
      ],
      "execution_count": null,
      "outputs": [
        {
          "output_type": "execute_result",
          "data": {
            "text/html": [
              "<div>\n",
              "<style scoped>\n",
              "    .dataframe tbody tr th:only-of-type {\n",
              "        vertical-align: middle;\n",
              "    }\n",
              "\n",
              "    .dataframe tbody tr th {\n",
              "        vertical-align: top;\n",
              "    }\n",
              "\n",
              "    .dataframe thead th {\n",
              "        text-align: right;\n",
              "    }\n",
              "</style>\n",
              "<table border=\"1\" class=\"dataframe\">\n",
              "  <thead>\n",
              "    <tr style=\"text-align: right;\">\n",
              "      <th></th>\n",
              "      <th>R&amp;D Spend</th>\n",
              "      <th>Administration</th>\n",
              "      <th>Marketing Spend</th>\n",
              "      <th>State</th>\n",
              "      <th>Profit</th>\n",
              "    </tr>\n",
              "  </thead>\n",
              "  <tbody>\n",
              "    <tr>\n",
              "      <th>0</th>\n",
              "      <td>165349.20</td>\n",
              "      <td>136897.80</td>\n",
              "      <td>471784.10</td>\n",
              "      <td>New York</td>\n",
              "      <td>192261.83</td>\n",
              "    </tr>\n",
              "    <tr>\n",
              "      <th>1</th>\n",
              "      <td>162597.70</td>\n",
              "      <td>151377.59</td>\n",
              "      <td>443898.53</td>\n",
              "      <td>California</td>\n",
              "      <td>191792.06</td>\n",
              "    </tr>\n",
              "    <tr>\n",
              "      <th>2</th>\n",
              "      <td>153441.51</td>\n",
              "      <td>101145.55</td>\n",
              "      <td>407934.54</td>\n",
              "      <td>Florida</td>\n",
              "      <td>191050.39</td>\n",
              "    </tr>\n",
              "    <tr>\n",
              "      <th>3</th>\n",
              "      <td>144372.41</td>\n",
              "      <td>118671.85</td>\n",
              "      <td>383199.62</td>\n",
              "      <td>New York</td>\n",
              "      <td>182901.99</td>\n",
              "    </tr>\n",
              "    <tr>\n",
              "      <th>4</th>\n",
              "      <td>142107.34</td>\n",
              "      <td>91391.77</td>\n",
              "      <td>366168.42</td>\n",
              "      <td>Florida</td>\n",
              "      <td>166187.94</td>\n",
              "    </tr>\n",
              "  </tbody>\n",
              "</table>\n",
              "</div>"
            ],
            "text/plain": [
              "   R&D Spend  Administration  Marketing Spend       State     Profit\n",
              "0  165349.20       136897.80        471784.10    New York  192261.83\n",
              "1  162597.70       151377.59        443898.53  California  191792.06\n",
              "2  153441.51       101145.55        407934.54     Florida  191050.39\n",
              "3  144372.41       118671.85        383199.62    New York  182901.99\n",
              "4  142107.34        91391.77        366168.42     Florida  166187.94"
            ]
          },
          "metadata": {},
          "execution_count": 5
        }
      ]
    },
    {
      "cell_type": "code",
      "metadata": {
        "colab": {
          "base_uri": "https://localhost:8080/"
        },
        "id": "Ov3O4vlJMwAh",
        "outputId": "90a590fe-7e8a-4509-cfff-3c60c889f8ca"
      },
      "source": [
        "data_set.shape"
      ],
      "execution_count": null,
      "outputs": [
        {
          "output_type": "execute_result",
          "data": {
            "text/plain": [
              "(50, 5)"
            ]
          },
          "metadata": {},
          "execution_count": 6
        }
      ]
    },
    {
      "cell_type": "code",
      "metadata": {
        "colab": {
          "base_uri": "https://localhost:8080/",
          "height": 295
        },
        "id": "IkihzxWZMWqI",
        "outputId": "0898ccc4-86f5-48ea-c191-8f394d1d1bef"
      },
      "source": [
        "plt.scatter(data_set['Marketing Spend'],data_set['Profit'],alpha=0.5)\n",
        "plt.title('Scatter plot of profit with marketing Spend')\n",
        "plt.xlabel('Marketing Spend')\n",
        "plt.ylabel('Profit')\n",
        "plt.show()"
      ],
      "execution_count": null,
      "outputs": [
        {
          "output_type": "display_data",
          "data": {
            "image/png": "[encoded data removed]",
            "text/plain": [
              "<Figure size 432x288 with 1 Axes>"
            ]
          },
          "metadata": {
            "needs_background": "light"
          }
        }
      ]
    },
    {
      "cell_type": "code",
      "metadata": {
        "colab": {
          "base_uri": "https://localhost:8080/",
          "height": 295
        },
        "id": "1JzYm71TNnEO",
        "outputId": "a7674d81-f3aa-4fd5-cede-d5565e86c995"
      },
      "source": [
        "plt.scatter(data_set['R&D Spend'],data_set['Profit'],alpha=0.5)\n",
        "plt.title('Scatter plot of profit with R&D Spend')\n",
        "plt.xlabel('R&D Spend')\n",
        "plt.ylabel('Profit')\n",
        "plt.show()"
      ],
      "execution_count": null,
      "outputs": [
        {
          "output_type": "display_data",
          "data": {
            "image/png": "[encoded data removed]",
            "text/plain": [
              "<Figure size 432x288 with 1 Axes>"
            ]
          },
          "metadata": {
            "needs_background": "light"
          }
        }
      ]
    },
    {
      "cell_type": "code",
      "metadata": {
        "colab": {
          "base_uri": "https://localhost:8080/",
          "height": 295
        },
        "id": "OmbAmHELODBI",
        "outputId": "552dae0b-acf0-41d9-d3f1-77da417ae7db"
      },
      "source": [
        "plt.scatter(data_set['Administration'],data_set['Profit'],alpha=0.5)\n",
        "plt.title('Scatter plot of profit with Administration')\n",
        "plt.xlabel('Administration Spend')\n",
        "plt.ylabel('Profit')\n",
        "plt.show()"
      ],
      "execution_count": null,
      "outputs": [
        {
          "output_type": "display_data",
          "data": {
            "image/png": "[encoded data removed]",
            "text/plain": [
              "<Figure size 432x288 with 1 Axes>"
            ]
          },
          "metadata": {
            "needs_background": "light"
          }
        }
      ]
    },
    {
      "cell_type": "code",
      "metadata": {
        "colab": {
          "base_uri": "https://localhost:8080/",
          "height": 434
        },
        "id": "a1fkqIMVObPI",
        "outputId": "8f62a0ab-b410-4626-da39-f8cc0215ee82"
      },
      "source": [
        "# Create the figure object\n",
        "ax=data_set.groupby(['State'])['Profit'].mean().plot.bar(figsize=(10,5),fontsize=14)\n",
        "\n",
        "\n",
        "# set the title\n",
        "ax.set_title('Average profitfor different states where the startups operate',fontsize=20)\n",
        " # set x and y label\n",
        "ax.set_xlabel('State',fontsize=15)\n",
        "ax.set_ylabel('Profit',fontsize=15)"
      ],
      "execution_count": null,
      "outputs": [
        {
          "output_type": "execute_result",
          "data": {
            "text/plain": [
              "Text(0, 0.5, 'Profit')"
            ]
          },
          "metadata": {},
          "execution_count": 14
        },
        {
          "output_type": "display_data",
          "data": {
            "image/png": "[encoded data removed]",
            "text/plain": [
              "<Figure size 720x360 with 1 Axes>"
            ]
          },
          "metadata": {
            "needs_background": "light"
          }
        }
      ]
    },
    {
      "cell_type": "code",
      "metadata": {
        "colab": {
          "base_uri": "https://localhost:8080/"
        },
        "id": "epopTlwaQJHy",
        "outputId": "e4a72b26-7dee-4c09-a8cd-c0a3fecf0494"
      },
      "source": [
        "# No of startups in different states\n",
        "data_set['State'].value_counts()"
      ],
      "execution_count": null,
      "outputs": [
        {
          "output_type": "execute_result",
          "data": {
            "text/plain": [
              "New York      17\n",
              "California    17\n",
              "Florida       16\n",
              "Name: State, dtype: int64"
            ]
          },
          "metadata": {},
          "execution_count": 16
        }
      ]
    },
    {
      "cell_type": "code",
      "metadata": {
        "id": "-m--MLANQyBk"
      },
      "source": [
        "data_set['NewYork_State']=np.where(data_set['State']=='New York',1,0)\n",
        "data_set['California_state'] = np.where(data_set['State']=='California',1,0)\n",
        "data_set['Florida_state']=np.where(data_set['State']=='Florida',1,0)\n",
        "\n",
        "# Drop the original column state from the data frame\n",
        "data_set.drop(columns=['State'],inplace=True)\n"
      ],
      "execution_count": null,
      "outputs": []
    },
    {
      "cell_type": "code",
      "metadata": {
        "colab": {
          "base_uri": "https://localhost:8080/",
          "height": 241
        },
        "id": "yVzUlCbuVMZw",
        "outputId": "09a70fa1-a627-4914-9f66-348fc90bf77b"
      },
      "source": [
        "data_set.head()"
      ],
      "execution_count": null,
      "outputs": [
        {
          "output_type": "execute_result",
          "data": {
            "text/html": [
              "<div>\n",
              "<style scoped>\n",
              "    .dataframe tbody tr th:only-of-type {\n",
              "        vertical-align: middle;\n",
              "    }\n",
              "\n",
              "    .dataframe tbody tr th {\n",
              "        vertical-align: top;\n",
              "    }\n",
              "\n",
              "    .dataframe thead th {\n",
              "        text-align: right;\n",
              "    }\n",
              "</style>\n",
              "<table border=\"1\" class=\"dataframe\">\n",
              "  <thead>\n",
              "    <tr style=\"text-align: right;\">\n",
              "      <th></th>\n",
              "      <th>R&amp;D Spend</th>\n",
              "      <th>Administration</th>\n",
              "      <th>Marketing Spend</th>\n",
              "      <th>Profit</th>\n",
              "      <th>NewYork_State</th>\n",
              "      <th>California_state</th>\n",
              "      <th>Florida_state</th>\n",
              "    </tr>\n",
              "  </thead>\n",
              "  <tbody>\n",
              "    <tr>\n",
              "      <th>0</th>\n",
              "      <td>165349.20</td>\n",
              "      <td>136897.80</td>\n",
              "      <td>471784.10</td>\n",
              "      <td>192261.83</td>\n",
              "      <td>1</td>\n",
              "      <td>0</td>\n",
              "      <td>0</td>\n",
              "    </tr>\n",
              "    <tr>\n",
              "      <th>1</th>\n",
              "      <td>162597.70</td>\n",
              "      <td>151377.59</td>\n",
              "      <td>443898.53</td>\n",
              "      <td>191792.06</td>\n",
              "      <td>0</td>\n",
              "      <td>1</td>\n",
              "      <td>0</td>\n",
              "    </tr>\n",
              "    <tr>\n",
              "      <th>2</th>\n",
              "      <td>153441.51</td>\n",
              "      <td>101145.55</td>\n",
              "      <td>407934.54</td>\n",
              "      <td>191050.39</td>\n",
              "      <td>0</td>\n",
              "      <td>0</td>\n",
              "      <td>1</td>\n",
              "    </tr>\n",
              "    <tr>\n",
              "      <th>3</th>\n",
              "      <td>144372.41</td>\n",
              "      <td>118671.85</td>\n",
              "      <td>383199.62</td>\n",
              "      <td>182901.99</td>\n",
              "      <td>1</td>\n",
              "      <td>0</td>\n",
              "      <td>0</td>\n",
              "    </tr>\n",
              "    <tr>\n",
              "      <th>4</th>\n",
              "      <td>142107.34</td>\n",
              "      <td>91391.77</td>\n",
              "      <td>366168.42</td>\n",
              "      <td>166187.94</td>\n",
              "      <td>0</td>\n",
              "      <td>0</td>\n",
              "      <td>1</td>\n",
              "    </tr>\n",
              "  </tbody>\n",
              "</table>\n",
              "</div>"
            ],
            "text/plain": [
              "   R&D Spend  Administration  ...  California_state  Florida_state\n",
              "0  165349.20       136897.80  ...                 0              0\n",
              "1  162597.70       151377.59  ...                 1              0\n",
              "2  153441.51       101145.55  ...                 0              1\n",
              "3  144372.41       118671.85  ...                 0              0\n",
              "4  142107.34        91391.77  ...                 0              1\n",
              "\n",
              "[5 rows x 7 columns]"
            ]
          },
          "metadata": {},
          "execution_count": 19
        }
      ]
    },
    {
      "cell_type": "code",
      "metadata": {
        "id": "fUjmOlS4VU80"
      },
      "source": [
        "dependent_variable='Profit'"
      ],
      "execution_count": null,
      "outputs": []
    },
    {
      "cell_type": "code",
      "metadata": {
        "colab": {
          "base_uri": "https://localhost:8080/",
          "height": 241
        },
        "id": "rARyCtPpVeey",
        "outputId": "9b80e69c-fc1a-408e-b04c-ee0fb51da004"
      },
      "source": [
        "data_set.head()"
      ],
      "execution_count": null,
      "outputs": [
        {
          "output_type": "execute_result",
          "data": {
            "text/html": [
              "<div>\n",
              "<style scoped>\n",
              "    .dataframe tbody tr th:only-of-type {\n",
              "        vertical-align: middle;\n",
              "    }\n",
              "\n",
              "    .dataframe tbody tr th {\n",
              "        vertical-align: top;\n",
              "    }\n",
              "\n",
              "    .dataframe thead th {\n",
              "        text-align: right;\n",
              "    }\n",
              "</style>\n",
              "<table border=\"1\" class=\"dataframe\">\n",
              "  <thead>\n",
              "    <tr style=\"text-align: right;\">\n",
              "      <th></th>\n",
              "      <th>R&amp;D Spend</th>\n",
              "      <th>Administration</th>\n",
              "      <th>Marketing Spend</th>\n",
              "      <th>Profit</th>\n",
              "      <th>NewYork_State</th>\n",
              "      <th>California_state</th>\n",
              "      <th>Florida_state</th>\n",
              "    </tr>\n",
              "  </thead>\n",
              "  <tbody>\n",
              "    <tr>\n",
              "      <th>0</th>\n",
              "      <td>165349.20</td>\n",
              "      <td>136897.80</td>\n",
              "      <td>471784.10</td>\n",
              "      <td>192261.83</td>\n",
              "      <td>1</td>\n",
              "      <td>0</td>\n",
              "      <td>0</td>\n",
              "    </tr>\n",
              "    <tr>\n",
              "      <th>1</th>\n",
              "      <td>162597.70</td>\n",
              "      <td>151377.59</td>\n",
              "      <td>443898.53</td>\n",
              "      <td>191792.06</td>\n",
              "      <td>0</td>\n",
              "      <td>1</td>\n",
              "      <td>0</td>\n",
              "    </tr>\n",
              "    <tr>\n",
              "      <th>2</th>\n",
              "      <td>153441.51</td>\n",
              "      <td>101145.55</td>\n",
              "      <td>407934.54</td>\n",
              "      <td>191050.39</td>\n",
              "      <td>0</td>\n",
              "      <td>0</td>\n",
              "      <td>1</td>\n",
              "    </tr>\n",
              "    <tr>\n",
              "      <th>3</th>\n",
              "      <td>144372.41</td>\n",
              "      <td>118671.85</td>\n",
              "      <td>383199.62</td>\n",
              "      <td>182901.99</td>\n",
              "      <td>1</td>\n",
              "      <td>0</td>\n",
              "      <td>0</td>\n",
              "    </tr>\n",
              "    <tr>\n",
              "      <th>4</th>\n",
              "      <td>142107.34</td>\n",
              "      <td>91391.77</td>\n",
              "      <td>366168.42</td>\n",
              "      <td>166187.94</td>\n",
              "      <td>0</td>\n",
              "      <td>0</td>\n",
              "      <td>1</td>\n",
              "    </tr>\n",
              "  </tbody>\n",
              "</table>\n",
              "</div>"
            ],
            "text/plain": [
              "   R&D Spend  Administration  ...  California_state  Florida_state\n",
              "0  165349.20       136897.80  ...                 0              0\n",
              "1  162597.70       151377.59  ...                 1              0\n",
              "2  153441.51       101145.55  ...                 0              1\n",
              "3  144372.41       118671.85  ...                 0              0\n",
              "4  142107.34        91391.77  ...                 0              1\n",
              "\n",
              "[5 rows x 7 columns]"
            ]
          },
          "metadata": {},
          "execution_count": 21
        }
      ]
    },
    {
      "cell_type": "code",
      "metadata": {
        "id": "WAn8T46qVnvg"
      },
      "source": [
        "# create list of independent variables\n",
        "Independent_variables=list(set(data_set.columns.to_list())-{dependent_variable})"
      ],
      "execution_count": null,
      "outputs": []
    },
    {
      "cell_type": "code",
      "metadata": {
        "colab": {
          "base_uri": "https://localhost:8080/"
        },
        "id": "GTLYkRYwWJaO",
        "outputId": "b4e105eb-7962-4e6c-e714-64008d11572c"
      },
      "source": [
        "Independent_variables"
      ],
      "execution_count": null,
      "outputs": [
        {
          "output_type": "execute_result",
          "data": {
            "text/plain": [
              "['Marketing Spend',\n",
              " 'Florida_state',\n",
              " 'California_state',\n",
              " 'Administration',\n",
              " 'NewYork_State',\n",
              " 'R&D Spend']"
            ]
          },
          "metadata": {},
          "execution_count": 26
        }
      ]
    },
    {
      "cell_type": "code",
      "metadata": {
        "id": "SxJhNOyoWkmW"
      },
      "source": [
        "# create the data of Independent variables\n",
        "x=data_set[Independent_variables].values\n",
        "\n",
        "# create the dependent variable data\n",
        "y=data_set[dependent_variable].values"
      ],
      "execution_count": null,
      "outputs": []
    },
    {
      "cell_type": "code",
      "metadata": {
        "id": "ZAYB2W08W6Iv"
      },
      "source": [
        "# splitting the data into the training set and test set\n",
        "X_train,X_test,y_train,y_test=train_test_split(x,y,test_size=0.2,random_state=0)"
      ],
      "execution_count": null,
      "outputs": []
    },
    {
      "cell_type": "code",
      "metadata": {
        "id": "cb7mH2-UX5Hw"
      },
      "source": [
        "# Transforming the data\n",
        "scaler=MinMaxScaler()\n",
        "X_train=scaler.fit_transform(X_train)\n",
        "X_test=scaler.transform(X_test)\n"
      ],
      "execution_count": null,
      "outputs": []
    },
    {
      "cell_type": "code",
      "metadata": {
        "colab": {
          "base_uri": "https://localhost:8080/"
        },
        "id": "LYRB73h5ZXq_",
        "outputId": "3b88209d-186a-49fe-be54-5b7907780081"
      },
      "source": [
        "X_train"
      ],
      "execution_count": null,
      "outputs": [
        {
          "output_type": "execute_result",
          "data": {
            "text/plain": [
              "array([[0.45494286, 1.        , 0.        , 0.48655174, 0.        ,\n",
              "        0.33561668],\n",
              "       [0.43561799, 0.        , 0.        , 0.3173015 , 1.        ,\n",
              "        0.2782839 ],\n",
              "       [0.28413435, 1.        , 0.        , 0.87258866, 0.        ,\n",
              "        0.45557444],\n",
              "       [0.44680961, 0.        , 1.        , 1.        , 0.        ,\n",
              "        0.2807759 ],\n",
              "       [0.62511553, 1.        , 0.        , 0.59103645, 0.        ,\n",
              "        0.55488118],\n",
              "       [0.68649342, 1.        , 0.        , 0.88568959, 0.        ,\n",
              "        0.7880179 ],\n",
              "       [0.54370828, 1.        , 0.        , 0.98922572, 0.        ,\n",
              "        0.72539353],\n",
              "       [0.0040356 , 0.        , 0.        , 0.6847981 , 1.        ,\n",
              "        0.0060492 ],\n",
              "       [0.        , 0.        , 0.        , 0.00432296, 1.        ,\n",
              "        0.00327821],\n",
              "       [0.22709197, 0.        , 0.        , 0.95618996, 1.        ,\n",
              "        0.39676926],\n",
              "       [0.55486446, 0.        , 0.        , 0.67036159, 1.        ,\n",
              "        0.69261666],\n",
              "       [0.19316302, 1.        , 0.        , 0.60480846, 0.        ,\n",
              "        0.37493063],\n",
              "       [0.09768292, 0.        , 1.        , 0.73241142, 0.        ,\n",
              "        0.38348453],\n",
              "       [0.56031151, 0.        , 1.        , 0.66078277, 0.        ,\n",
              "        0.47180821],\n",
              "       [0.31370517, 0.        , 1.        , 0.42201072, 0.        ,\n",
              "        0.14297577],\n",
              "       [0.63305328, 0.        , 1.        , 0.5881374 , 0.        ,\n",
              "        0.46116861],\n",
              "       [0.07531871, 0.        , 0.        , 0.71514521, 1.        ,\n",
              "        0.09377566],\n",
              "       [0.66049977, 0.        , 0.        , 0.91565732, 1.        ,\n",
              "        0.72901786],\n",
              "       [0.53555202, 0.        , 1.        , 0.79138533, 0.        ,\n",
              "        0.55635219],\n",
              "       [0.29242745, 0.        , 1.        , 0.82952141, 0.        ,\n",
              "        0.39107967],\n",
              "       [0.76912588, 0.        , 0.        , 0.45607757, 1.        ,\n",
              "        0.797566  ],\n",
              "       [0.59894835, 0.        , 0.        , 0.88143739, 1.        ,\n",
              "        0.57246821],\n",
              "       [0.36626005, 0.        , 1.        , 0.63210616, 0.        ,\n",
              "        0.17390063],\n",
              "       [0.09574943, 0.        , 1.        , 0.61742485, 0.        ,\n",
              "        0.        ],\n",
              "       [0.94089337, 0.        , 1.        , 0.94064201, 0.        ,\n",
              "        0.98335946],\n",
              "       [0.52956308, 1.        , 0.        , 0.71456332, 0.        ,\n",
              "        0.56766982],\n",
              "       [0.41762624, 0.        , 1.        , 0.        , 0.        ,\n",
              "        0.26652654],\n",
              "       [0.29796428, 0.        , 0.        , 0.4510652 , 1.        ,\n",
              "        0.46594728],\n",
              "       [0.27071031, 0.        , 1.        , 0.9013723 , 0.        ,\n",
              "        0.81412828],\n",
              "       [0.64599195, 1.        , 0.        , 0.5118644 , 0.        ,\n",
              "        0.40842369],\n",
              "       [0.42631115, 1.        , 0.        , 0.71208077, 0.        ,\n",
              "        0.17335288],\n",
              "       [0.63532724, 0.        , 0.        , 0.96315702, 1.        ,\n",
              "        0.47408436],\n",
              "       [0.        , 0.        , 0.        , 0.96072005, 1.        ,\n",
              "        0.52264964],\n",
              "       [0.64644319, 0.        , 1.        , 0.53938172, 0.        ,\n",
              "        0.74590551],\n",
              "       [0.3709309 , 0.        , 1.        , 0.29789228, 0.        ,\n",
              "        0.23319442],\n",
              "       [0.62976785, 1.        , 0.        , 0.60645237, 0.        ,\n",
              "        0.00795565],\n",
              "       [0.81223513, 0.        , 0.        , 0.63328838, 1.        ,\n",
              "        0.87313643],\n",
              "       [1.        , 0.        , 0.        , 0.80456754, 1.        ,\n",
              "        1.        ],\n",
              "       [0.        , 0.        , 1.        , 0.79074489, 0.        ,\n",
              "        0.        ],\n",
              "       [0.06005866, 0.        , 1.        , 0.97286196, 0.        ,\n",
              "        0.13412668]])"
            ]
          },
          "metadata": {},
          "execution_count": 34
        }
      ]
    },
    {
      "cell_type": "code",
      "metadata": {
        "colab": {
          "base_uri": "https://localhost:8080/"
        },
        "id": "dWl88ndfZbPW",
        "outputId": "8d4f59df-9b24-4050-c9b4-a40a7325386b"
      },
      "source": [
        "# fitting the multiple Linear regression to the training set\n",
        "regressor=LinearRegression()\n",
        "regressor.fit(X_train,y_train)\n"
      ],
      "execution_count": null,
      "outputs": [
        {
          "output_type": "execute_result",
          "data": {
            "text/plain": [
              "LinearRegression(copy_X=True, fit_intercept=True, n_jobs=None, normalize=False)"
            ]
          },
          "metadata": {},
          "execution_count": 35
        }
      ]
    },
    {
      "cell_type": "code",
      "metadata": {
        "colab": {
          "base_uri": "https://localhost:8080/"
        },
        "id": "qkT-LQmCaZ8D",
        "outputId": "4c57fc53-fa6d-49e8-f73e-6ee974070e70"
      },
      "source": [
        "#  to find the intercept\n",
        "regressor.intercept_"
      ],
      "execution_count": null,
      "outputs": [
        {
          "output_type": "execute_result",
          "data": {
            "text/plain": [
              "44153.95466784856"
            ]
          },
          "metadata": {},
          "execution_count": 37
        }
      ]
    },
    {
      "cell_type": "code",
      "metadata": {
        "colab": {
          "base_uri": "https://localhost:8080/"
        },
        "id": "i4bRnwUSafmX",
        "outputId": "5aa401e9-eec9-4030-d270-701ccc6bfae4"
      },
      "source": [
        "# to find the coefficients\n",
        "regressor.coef_"
      ],
      "execution_count": null,
      "outputs": [
        {
          "output_type": "execute_result",
          "data": {
            "text/plain": [
              "array([ 1.72720281e+04, -8.72645791e+02,  8.66383692e+01,  3.49927567e+03,\n",
              "        7.86007422e+02,  1.27892182e+05])"
            ]
          },
          "metadata": {},
          "execution_count": 38
        }
      ]
    },
    {
      "cell_type": "code",
      "metadata": {
        "colab": {
          "base_uri": "https://localhost:8080/"
        },
        "id": "_EU7AN_YaltY",
        "outputId": "392a9b46-1108-4a73-c16b-43b5776ed26b"
      },
      "source": [
        "# to predict the independent variable\n",
        "regressor.predict(X_train)"
      ],
      "execution_count": null,
      "outputs": [
        {
          "output_type": "execute_result",
          "data": {
            "text/plain": [
              "array([ 95764.42320496,  89164.62849777, 109506.72329085,  91366.2188941 ,\n",
              "       127111.48666646, 159019.04337114, 148905.9881254 ,  48179.60744028,\n",
              "        45374.34722508, 102951.9596798 , 145449.63178399,  96684.71387299,\n",
              "        97535.3576194 , 116571.15139254,  69421.13311312, 116212.62095133,\n",
              "        60736.53267612, 152787.95464277, 127413.0337311 , 102210.16391827,\n",
              "       161822.7226407 , 131583.61511491,  75019.09161337,  48054.91969394,\n",
              "       189547.28196893, 127528.92248422,  85540.50570954, 111255.8251405 ,\n",
              "       156191.10124356, 108464.25100331,  75306.81185049, 119915.38726755,\n",
              "       115144.58914955, 152688.90677959,  81513.47163492,  57298.28613018,\n",
              "       172852.28336637, 192919.57537462,  47007.62737751,  65835.99435878])"
            ]
          },
          "metadata": {},
          "execution_count": 40
        }
      ]
    },
    {
      "cell_type": "code",
      "metadata": {
        "colab": {
          "base_uri": "https://localhost:8080/"
        },
        "id": "a_CSL6m7bMdf",
        "outputId": "3818503b-fa1e-46f2-bbca-7ac60b5e9779"
      },
      "source": [
        "y_train"
      ],
      "execution_count": null,
      "outputs": [
        {
          "output_type": "execute_result",
          "data": {
            "text/plain": [
              "array([ 96778.92,  96479.51, 105733.54,  96712.8 , 124266.9 , 155752.6 ,\n",
              "       132602.65,  64926.08,  35673.41, 101004.64, 129917.04,  99937.59,\n",
              "        97427.84, 126992.93,  71498.49, 118474.03,  69758.98, 152211.77,\n",
              "       134307.35, 107404.34, 156991.12, 125370.37,  78239.91,  14681.4 ,\n",
              "       191792.06, 141585.52,  89949.14, 108552.04, 156122.51, 108733.99,\n",
              "        90708.19, 111313.02, 122776.86, 149759.96,  81005.76,  49490.75,\n",
              "       182901.99, 192261.83,  42559.73,  65200.33])"
            ]
          },
          "metadata": {},
          "execution_count": 41
        }
      ]
    },
    {
      "cell_type": "code",
      "metadata": {
        "id": "htd9fbPUbXTW"
      },
      "source": [
        "# predicting the test set with rsults\n",
        "y_pred=regressor.predict(X_test)"
      ],
      "execution_count": null,
      "outputs": []
    },
    {
      "cell_type": "code",
      "metadata": {
        "colab": {
          "base_uri": "https://localhost:8080/"
        },
        "id": "dEU_xnwbbkXy",
        "outputId": "0e847cdb-0716-4eef-d113-653e598a5a6c"
      },
      "source": [
        "# predicted profit on the test data \n",
        "y_pred"
      ],
      "execution_count": null,
      "outputs": [
        {
          "output_type": "execute_result",
          "data": {
            "text/plain": [
              "array([103015.20159796, 132582.27760816, 132447.73845174,  71976.09851258,\n",
              "       178537.48221055, 116161.24230165,  67851.69209676,  98791.73374687,\n",
              "       113969.43533012, 167921.0656955 ])"
            ]
          },
          "metadata": {},
          "execution_count": 43
        }
      ]
    },
    {
      "cell_type": "code",
      "metadata": {
        "colab": {
          "base_uri": "https://localhost:8080/"
        },
        "id": "4BgHZ5oCblfB",
        "outputId": "b2602076-b52d-461e-f742-11f1f9640e52"
      },
      "source": [
        "# Actual profit on the test data \n",
        "y_test"
      ],
      "execution_count": null,
      "outputs": [
        {
          "output_type": "execute_result",
          "data": {
            "text/plain": [
              "array([103282.38, 144259.4 , 146121.95,  77798.83, 191050.39, 105008.31,\n",
              "        81229.06,  97483.56, 110352.25, 166187.94])"
            ]
          },
          "metadata": {},
          "execution_count": 44
        }
      ]
    },
    {
      "cell_type": "code",
      "metadata": {
        "colab": {
          "base_uri": "https://localhost:8080/"
        },
        "id": "K76qocKebnYv",
        "outputId": "4a6a8a7e-9cc3-4a3d-a2e9-027ec1e0554a"
      },
      "source": [
        "# applying MSE \n",
        "mean_squared_error(y_test,y_pred)"
      ],
      "execution_count": null,
      "outputs": [
        {
          "output_type": "execute_result",
          "data": {
            "text/plain": [
              "83502864.03257732"
            ]
          },
          "metadata": {},
          "execution_count": 45
        }
      ]
    },
    {
      "cell_type": "code",
      "metadata": {
        "colab": {
          "base_uri": "https://localhost:8080/"
        },
        "id": "T4ppkSuKcLLs",
        "outputId": "156bc487-f86a-4488-a307-fdec36697ba0"
      },
      "source": [
        "# applying RMSE\n",
        "math.sqrt(mean_squared_error(y_test,y_pred))"
      ],
      "execution_count": null,
      "outputs": [
        {
          "output_type": "execute_result",
          "data": {
            "text/plain": [
              "9137.990152794942"
            ]
          },
          "metadata": {},
          "execution_count": 46
        }
      ]
    },
    {
      "cell_type": "code",
      "metadata": {
        "id": "0kBOle3CeIcN"
      },
      "source": [
        "y_pred_train=regressor.predict(X_train)"
      ],
      "execution_count": null,
      "outputs": []
    },
    {
      "cell_type": "code",
      "metadata": {
        "colab": {
          "base_uri": "https://localhost:8080/"
        },
        "id": "Em6zqNNxdoif",
        "outputId": "0556dad1-a82d-4535-bfeb-6c0e170de349"
      },
      "source": [
        "r2_score(y_train,y_pred_train)"
      ],
      "execution_count": null,
      "outputs": [
        {
          "output_type": "execute_result",
          "data": {
            "text/plain": [
              "0.9501847627493607"
            ]
          },
          "metadata": {},
          "execution_count": 50
        }
      ]
    },
    {
      "cell_type": "code",
      "metadata": {
        "colab": {
          "base_uri": "https://localhost:8080/"
        },
        "id": "2sBMpRfscS1_",
        "outputId": "8a5473af-be26-44fb-fdf3-4569d7b6293c"
      },
      "source": [
        "# finding the R2 score\n",
        "r2_score(y_test,y_pred)"
      ],
      "execution_count": null,
      "outputs": [
        {
          "output_type": "execute_result",
          "data": {
            "text/plain": [
              "0.9347068473282425"
            ]
          },
          "metadata": {},
          "execution_count": 47
        }
      ]
    },
    {
      "cell_type": "code",
      "metadata": {
        "id": "RzLlWlqScb3C"
      },
      "source": [
        ""
      ],
      "execution_count": null,
      "outputs": []
    }
  ]
}